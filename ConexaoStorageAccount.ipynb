{
  "nbformat": 4,
  "nbformat_minor": 0,
  "metadata": {
    "colab": {
      "provenance": []
    },
    "kernelspec": {
      "name": "python3",
      "display_name": "Python 3"
    },
    "language_info": {
      "name": "python"
    }
  },
  "cells": [
    {
      "cell_type": "code",
      "execution_count": null,
      "metadata": {
        "id": "V7Sn6YveZMsz"
      },
      "outputs": [],
      "source": [
        "pip install azure.storage.blob"
      ]
    },
    {
      "cell_type": "markdown",
      "source": [
        "\n",
        "# Itens Necessários para a Conexão:\n",
        "1.   Account Name\n",
        "2.   Account Key\n",
        "3.   Container Name\n",
        "\n",
        "\n"
      ],
      "metadata": {
        "id": "8g3EuXf6ZQ4m"
      }
    },
    {
      "cell_type": "code",
      "source": [
        "from azure.storage.blob import BlobServiceClient, generate_blob_sas, BlobSasPermissions\n",
        "\n",
        "# Informações básicas acerda da Storage Account criada no recurso da Azure\n",
        "account_name = 'storage_account_name'\n",
        "account_key = 'access_key_storage'\n",
        "container = 'container'"
      ],
      "metadata": {
        "id": "QlgSIv5PZfRV"
      },
      "execution_count": null,
      "outputs": []
    },
    {
      "cell_type": "code",
      "source": [
        "# Construção da string de conexão com o storage\n",
        "connection_string = 'DefaultEndpointsProtocol=https;AccountName='+account_name+';AccountKey='+account_key+';EndpointSuffix=core.windows.net'"
      ],
      "metadata": {
        "id": "Ni-MmtpsaqzG"
      },
      "execution_count": null,
      "outputs": []
    },
    {
      "cell_type": "code",
      "source": [
        "# Conexão com o serviço e em seguida definição de qual container desejamos acessar\n",
        "blob_client = BlobServiceClient.from_connection_string(connection_string)\n",
        "container_client = blob_client.get_container_client(container)"
      ],
      "metadata": {
        "id": "aaS0E8cnb6z3"
      },
      "execution_count": null,
      "outputs": []
    },
    {
      "cell_type": "code",
      "source": [
        "# Captura dos metadados da storage account e agregação em uma lista\n",
        "lista = []\n",
        "for x in container_client.list_blobs():\n",
        "  print('----------------------------------------')\n",
        "  print('Container:',x.container)\n",
        "  print('Nome:',x.name)\n",
        "  print('Modificação:',x.last_modified)\n",
        "  print('----------------------------------------')\n",
        "  lista.append(x.name)"
      ],
      "metadata": {
        "colab": {
          "base_uri": "https://localhost:8080/"
        },
        "id": "hSrZUU2FfTT0",
        "outputId": "8062ad5f-8d19-4ca5-c24d-edd135c80a9e"
      },
      "execution_count": null,
      "outputs": [
        {
          "output_type": "stream",
          "name": "stdout",
          "text": [
            "----------------------------------------\n",
            "Container: estudos-conteiner\n",
            "Nome: REL_ONEANDDONE_30052022060529.xlsx\n",
            "Modificação: 2022-06-17 18:21:02+00:00\n",
            "----------------------------------------\n"
          ]
        }
      ]
    },
    {
      "cell_type": "markdown",
      "source": [
        "### Leitura dos dados da Storage Account -> Container"
      ],
      "metadata": {
        "id": "FuGj1LWvXcUl"
      }
    },
    {
      "cell_type": "code",
      "source": [
        "from datetime import datetime, timedelta\n",
        "import pandas as pd\n",
        "\n",
        "# Precisamos gerar um token para permitir acesso temporario ao blob\n",
        "for x in lista:\n",
        "  sas_token = generate_blob_sas(account_name=account_name,\n",
        "                                container_name=container,\n",
        "                                blob_name=x,\n",
        "                                account_key=account_key,\n",
        "                                permission=BlobSasPermissions(read=True),\n",
        "                                expiry=datetime.utcnow() + timedelta(hours=3))\n",
        "\n",
        "  sas_link = 'https://'+account_name+'.blob.core.windows.net/'+container+'/'+ x +'?'+sas_token\n",
        "\n",
        "  blob_table = pd.read_excel(sas_link)"
      ],
      "metadata": {
        "id": "qV_gQQ7Bjwln"
      },
      "execution_count": null,
      "outputs": []
    },
    {
      "cell_type": "code",
      "source": [
        "blob_table.head(5)"
      ],
      "metadata": {
        "id": "gz_bImTolwl1"
      },
      "execution_count": null,
      "outputs": []
    }
  ]
}